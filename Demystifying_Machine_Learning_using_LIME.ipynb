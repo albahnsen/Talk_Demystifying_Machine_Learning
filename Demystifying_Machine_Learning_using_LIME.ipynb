{
 "cells": [
  {
   "cell_type": "markdown",
   "metadata": {},
   "source": [
    "# Demystifying Machine Learning \n",
    "## Using  Local Interpretable Model-Agnostic Explanations (LIME)"
   ]
  },
  {
   "cell_type": "markdown",
   "metadata": {},
   "source": [
    "by [Alejandro Correa Bahnsen](http://www.albahnsen.com/)"
   ]
  },
  {
   "cell_type": "markdown",
   "metadata": {},
   "source": [
    "Machine learning models are often dismissed on the grounds of lack of interpretability. There is a popular story about modern algorithms that goes as follows: Simple linear statistical models such as logistic regression yield to interpretable models, on the other hand, advanced models such as random forest or deep neural networks are black boxes. Meaning that it is nearly impossible to understand how a model is making a prediction. "
   ]
  },
  {
   "cell_type": "markdown",
   "metadata": {},
   "source": [
    "<center>\n",
    "<img src=\"figures/black-box.PNG\" style=\"width: 300px;\" align=\"middle\">\n",
    "</center>"
   ]
  },
  {
   "cell_type": "markdown",
   "metadata": {},
   "source": [
    "The infosec industry is very used to rules, blacklisting, fingerprints and indicators of compromise so explaining why an alert went off is easy and natural. In contrast, machine learning models are able to identify complex nonlinear patterns in large data sets, extrapolate answers and make predictions based on non-trivial compositions that make it nearly impossible to get a feeling for its inner workings.\n",
    "\n",
    "Then, if I can use simple expert rules, or regression/decision tree models that are interpretable, why should I use non-interpretable models? Well, because complex machine learning models are much more powerful. \n",
    "\n",
    "For example, in the next figure I’m showing the implicit tradeoff between model performance, measured in accuracy, and model complexity, measured in number of parameters. This is built using the common [MINST handwritten digits dataset](http://yann.lecun.com/exdb/mnist/), where the objective is to identify which number was written by looking only at the pixel values of each image.\n"
   ]
  },
  {
   "cell_type": "markdown",
   "metadata": {},
   "source": [
    "<center>\n",
    "<img src=\"figures/complexity.png\" style=\"width: 600px;\" align=\"middle\">\n",
    "</center>\n",
    "* [Notebook to create the above plot](http://nbviewer.jupyter.org/github/albahnsen/Talk_Demystifying_Machine_Learning/blob/master/figures/Create_Model_Complexity_Figure.ipynb)"
   ]
  },
  {
   "cell_type": "markdown",
   "metadata": {},
   "source": [
    "As we can see, as a general rule, the more complex the model the higher its performance. In this case, using a simple interpretable decision tree yields an accuracy of 86%, on the other hand a convolutional neural network has an accuracy of 99.3%, however, it must train more than a million parameters, compared with only 1,700 of the decision tree. \n",
    "\n",
    "Big efforts are being invested in finding ways to explain the output of machine learning models. Just over a couple months ago, a novel method [LIME](http://arxiv.org/abs/1602.04938) was presented during the 2016 ACM's Conference on Knowledge Discovery and Data Mining. LIME stands for Local Interpretable Model-agnostic Explanations, and its objective is to explain the result from any classifier so that a human can understand individual predictions.\n"
   ]
  },
  {
   "cell_type": "markdown",
   "metadata": {},
   "source": [
    "<center>\n",
    "<img src=\"https://d3ansictanv2wj.cloudfront.net/figure1-a9533a3fb9bb9ace6ee96b4cdc9b6bcb.jpg\" style=\"width: 800px;\" align=\"middle\">\n",
    "</center>\n",
    "* [Source](https://www.oreilly.com/learning/introduction-to-local-interpretable-model-agnostic-explanations-lime)\n"
   ]
  },
  {
   "cell_type": "markdown",
   "metadata": {},
   "source": [
    "The LIME algorithm approximates the underlying model with an interpretable one. This is done by learning on perturbations of the original example, and training a sparse linear model  in the nearest neighborhood around the target instance. Let's see how that is done with this example. "
   ]
  },
  {
   "cell_type": "markdown",
   "metadata": {},
   "source": [
    "An *interpretable representation* is a point in a space whose dimensions can be interpreted by a human.  Practically speaking, this paper uses small binary vectors of simple features.  For instance, a text classifier might use a large space of word embeddings and ngrams as its input representation, while the explanation would use the presence or absence of a handful of particular words as an interpretable representation.  The paper specifically focuses on finding sparse linear models as explanations, but notes that the same technique could be used to generate decision trees or falling rule lists as interpretable models.  All of these are assumed to be over a domain \\\\( \\\\{0,1\\\\}^{d'} \\\\) of interpretable components -- i.e. a reasonably small number of human interpretable features.\n",
    "\n",
    "LIME frames the search for an interpretable explanation as an optimization problem.  Given a set \\\\({G}\\\\) of potentially interpretable models, we need a measure \\\\( \\mathcal{L}(f,g,x) \\\\) of how poorly the interpretable model \\\\( g \\in G \\\\) approximates the original model \\\\(f\\\\) for point \\\\(x\\\\) -- this is the loss function.  We also need some measure \\\\( \\Omega(g) \\\\) of the complexity of the model (e.g. the depth of a decision tree).  We then pick a model which minimizes both of these\n",
    "\n",
    "\\\\[\n",
    "  \\xi(x) = argmin_{g \\in G} \\mathcal{L}(f,g,x) + \\Omega(g)\n",
    "\\\\]\n"
   ]
  },
  {
   "cell_type": "markdown",
   "metadata": {},
   "source": [
    "For a given example in the original input space \\\\( x \\in R^d \\\\), we want to learn a locally faithful linear model in a relatively small feature space.  The intuition is shown in the following diagram."
   ]
  },
  {
   "cell_type": "markdown",
   "metadata": {},
   "source": [
    "<center>\n",
    "<img src=\"https://raw.githubusercontent.com/marcotcr/lime/master/doc/images/lime.png\" style=\"width: 500px;\" align=\"middle\">\n",
    "</center>\n",
    "* [Source](https://github.com/marcotcr/lime)\n"
   ]
  },
  {
   "cell_type": "markdown",
   "metadata": {},
   "source": [
    "In the figure, the black-box complex decision function is represented by the blue/pink background. As expected there is no easy way to generalize this non-linear model. However, if we look locally, we can extract linear explanations. LIME, first select the nearest neighbors to the prediction that we want to explain. These nearest neighbours are represented by the big crosses and circles. Afterwards, we can fit an explainable linear model using only the selected instances, and use the coefficients of the linear model to explain a particular prediction. The bold red cross represents the instance being explained.  The pink blob in the background represents the complex model \\\\( f \\\\).  The dashed line is the learned linear model \\\\( g \\\\) which will be used as an explanation.  This function is locally faithful to \\\\( f \\\\) but globally does not behave at all similarly.\n",
    "\n",
    "The general approach is to search for the optimal explanatory model \\\\( g(x) \\\\) by sampling in the vecinity of the example x.  We then search the space of potential explanatory models for one which optimizes the objective function \\\\( \\mathcal{L} + \\Omega \\\\).\n",
    "\n",
    "The paper focuses on a couple concrete implementations of this approach.  For text classification, the interpretable representation is a bag of words of maximum size \\\\( K \\\\).  For image recognition, the interpretable representation is a binary vector of \"super-pixels\" of maximum size \\\\( K \\\\).  The K features are selected first, using a regression technique, and then the weights of the linear model \\\\( g \\\\) are selected using a least-squares regression, weighted by the distance between the sample \\\\( z \\\\) and the original point \\\\( x \\\\). \n",
    "\n",
    "* Starting from a point \\\\(x\\\\) in the original input space map it to a corresponding point \\\\(x' \\in \\\\{0,1\\\\}^{d'} \\\\) in the interpretable space.\n",
    "* Then take random samples \\\\( z' \\\\) around \\\\( x' \\\\)\n",
    "* Map each sample \\\\(z'\\\\) back to a point \\\\(z\\\\) in the original space and get the prediction \\\\( f(z) \\\\) using the original global model.\n",
    "* Calculate the distance \\\\( \\Pi_x(z) \\\\) between the sample point and the original point\n",
    "* Fit the weights of \\\\(g\\\\) to minimize the error \\\\(f(z) - g(z')\\\\) between the explanatory model and the global model for the set of perturbed examples, weighted by the distance of the perturbed example from the original example.\n",
    "\n",
    "[LIME summary from michaelrkytch](http://michaelrkytch.github.io/papers/machine%20learning/2016/07/12/lime-explainability.html)\n",
    "\n",
    "I know this sounds way to confusing, but allow me to show an example of using LIME to explain the prediction of a Phishing URLs classifier model."
   ]
  },
  {
   "cell_type": "markdown",
   "metadata": {},
   "source": [
    "# Case Study: URL phishing detection"
   ]
  },
  {
   "cell_type": "markdown",
   "metadata": {},
   "source": [
    "Phishing, by definition, is the act of defrauding an online user in order to obtain personal information by posing as a trustworthy institution or entity. Users usually have a hard time differentiating between legitimate and malicious sites because they are made to look exactly the same. Therefore, there is a need to create better tools to combat attackers.\n",
    "\n",
    "Phishing attacks can be launched from anywhere in the\n",
    "world by people with little to no technical skills at insignificant\n",
    "costs. Organizations trying to protect their users from these\n",
    "attacks have a hard time dealing with massive amount of\n",
    "emerging sites which must be identified and labeled either as\n",
    "malicious or harmless before users access them.\n",
    "\n",
    "Being able to determine the maliciousness of a website by\n",
    "just looking at its URL provides a major strategic advantage,\n",
    "since the number of victims can be reduced to nearly zero\n",
    "while minimizing operational efforts by avoiding massive use\n",
    "of more complex methods such content analysis."
   ]
  },
  {
   "cell_type": "markdown",
   "metadata": {},
   "source": [
    "#### Data\n",
    "\n",
    "To evaluate create a  phishing classifier, lets use a corpus of one\n",
    "million phishing URLs extracted from Phishtank and one\n",
    "million harmless URLs from the CommonCrawl. (Actually a small sample here)\n"
   ]
  },
  {
   "cell_type": "code",
   "execution_count": 1,
   "metadata": {
    "collapsed": false
   },
   "outputs": [],
   "source": [
    "import pandas as pd\n",
    "import zipfile\n",
    "with zipfile.ZipFile('phishing.csv.zip', 'r') as z:\n",
    "    f = z.open('phishing.csv')\n",
    "    data = pd.read_csv(f, index_col=False)"
   ]
  },
  {
   "cell_type": "code",
   "execution_count": 2,
   "metadata": {
    "collapsed": false
   },
   "outputs": [
    {
     "data": {
      "text/html": [
       "<div>\n",
       "<table border=\"1\" class=\"dataframe\">\n",
       "  <thead>\n",
       "    <tr style=\"text-align: right;\">\n",
       "      <th></th>\n",
       "      <th>url</th>\n",
       "      <th>phishing</th>\n",
       "    </tr>\n",
       "  </thead>\n",
       "  <tbody>\n",
       "    <tr>\n",
       "      <th>0</th>\n",
       "      <td>http://www.subalipack.com/contact/images/sampl...</td>\n",
       "      <td>1</td>\n",
       "    </tr>\n",
       "    <tr>\n",
       "      <th>1</th>\n",
       "      <td>http://fasc.maximecapellot-gypsyjazz-ensemble....</td>\n",
       "      <td>1</td>\n",
       "    </tr>\n",
       "    <tr>\n",
       "      <th>2</th>\n",
       "      <td>http://theotheragency.com/confirmer/confirmer-...</td>\n",
       "      <td>1</td>\n",
       "    </tr>\n",
       "    <tr>\n",
       "      <th>3</th>\n",
       "      <td>http://aaalandscaping.com/components/com_smart...</td>\n",
       "      <td>1</td>\n",
       "    </tr>\n",
       "    <tr>\n",
       "      <th>4</th>\n",
       "      <td>http://paypal.com.confirm-key-21107316126168.s...</td>\n",
       "      <td>1</td>\n",
       "    </tr>\n",
       "  </tbody>\n",
       "</table>\n",
       "</div>"
      ],
      "text/plain": [
       "                                                 url  phishing\n",
       "0  http://www.subalipack.com/contact/images/sampl...         1\n",
       "1  http://fasc.maximecapellot-gypsyjazz-ensemble....         1\n",
       "2  http://theotheragency.com/confirmer/confirmer-...         1\n",
       "3  http://aaalandscaping.com/components/com_smart...         1\n",
       "4  http://paypal.com.confirm-key-21107316126168.s...         1"
      ]
     },
     "execution_count": 2,
     "metadata": {},
     "output_type": "execute_result"
    }
   ],
   "source": [
    "data.head()"
   ]
  },
  {
   "cell_type": "code",
   "execution_count": 3,
   "metadata": {
    "collapsed": false
   },
   "outputs": [
    {
     "data": {
      "text/html": [
       "<div>\n",
       "<table border=\"1\" class=\"dataframe\">\n",
       "  <thead>\n",
       "    <tr style=\"text-align: right;\">\n",
       "      <th></th>\n",
       "      <th>url</th>\n",
       "      <th>phishing</th>\n",
       "    </tr>\n",
       "  </thead>\n",
       "  <tbody>\n",
       "    <tr>\n",
       "      <th>39995</th>\n",
       "      <td>http://www.diaperswappers.com/forum/member.php...</td>\n",
       "      <td>0</td>\n",
       "    </tr>\n",
       "    <tr>\n",
       "      <th>39996</th>\n",
       "      <td>http://posting.bohemian.com/northbay/Tools/Ema...</td>\n",
       "      <td>0</td>\n",
       "    </tr>\n",
       "    <tr>\n",
       "      <th>39997</th>\n",
       "      <td>http://www.tripadvisor.jp/Hotel_Review-g303832...</td>\n",
       "      <td>0</td>\n",
       "    </tr>\n",
       "    <tr>\n",
       "      <th>39998</th>\n",
       "      <td>http://www.baylor.edu/content/services/downloa...</td>\n",
       "      <td>0</td>\n",
       "    </tr>\n",
       "    <tr>\n",
       "      <th>39999</th>\n",
       "      <td>http://www.phinfever.com/forums/viewtopic.php?...</td>\n",
       "      <td>0</td>\n",
       "    </tr>\n",
       "  </tbody>\n",
       "</table>\n",
       "</div>"
      ],
      "text/plain": [
       "                                                     url  phishing\n",
       "39995  http://www.diaperswappers.com/forum/member.php...         0\n",
       "39996  http://posting.bohemian.com/northbay/Tools/Ema...         0\n",
       "39997  http://www.tripadvisor.jp/Hotel_Review-g303832...         0\n",
       "39998  http://www.baylor.edu/content/services/downloa...         0\n",
       "39999  http://www.phinfever.com/forums/viewtopic.php?...         0"
      ]
     },
     "execution_count": 3,
     "metadata": {},
     "output_type": "execute_result"
    }
   ],
   "source": [
    "data.tail()"
   ]
  },
  {
   "cell_type": "code",
   "execution_count": 4,
   "metadata": {
    "collapsed": false
   },
   "outputs": [
    {
     "data": {
      "text/plain": [
       "1    20000\n",
       "0    20000\n",
       "Name: phishing, dtype: int64"
      ]
     },
     "execution_count": 4,
     "metadata": {},
     "output_type": "execute_result"
    }
   ],
   "source": [
    "data.phishing.value_counts()"
   ]
  },
  {
   "cell_type": "markdown",
   "metadata": {},
   "source": [
    "#### Creating features"
   ]
  },
  {
   "cell_type": "code",
   "execution_count": 32,
   "metadata": {
    "collapsed": false
   },
   "outputs": [
    {
     "data": {
      "text/plain": [
       "['http://dothan.com.co/gold/austspark/index.htm\\n',\n",
       " 'http://78.142.63.63/%7Enetsysco/process/fc1d9c7ea4773b7ff90925c2902cb5f2\\n',\n",
       " 'http://verify95.5gbfree.com/coverme2010/\\n',\n",
       " 'http://www.racom.com/uploads/productscat/bookmark/ii.php?.rand=13vqcr8bp0gud&cbcxt=mai&email=abuse@tradinghouse.ca\\n',\n",
       " 'http://www.cleanenergytci.com/components/update.logon.l3an7lofamerica/2342343234532534546347677898765432876543345687656543876/\\n',\n",
       " 'http://209.148.89.163/-/santander.co.uk/weblegn/AccountLogin.php\\n',\n",
       " 'http://senevi.com/confirmation/\\n',\n",
       " 'http://www.hellenkeller.cl/tmp/new/noticias/Modulo_de_Atualizacao_Bradesco/index2.php?id=PSO1AM04L3Q6PSBNVJ82QUCO0L5GBSY2KM2U9BYUEO14HCRDVZEMTRB3DGJO9HPT4ROC4M8HA8LRJD5FCJ27AD0NTSC3A3VDUJQX6XFG519OED4RW6Y8J8VC19EAAAO5UF21CHGHIP7W4AO1GM8ZU4BUBQ6L2UQVARVM\\n',\n",
       " 'http://internet-sicherheit.co/de/konflikt/src%3Dde/AZ00276ZZ75/we%3Dhs_0_2/sicherheit/konto_verifizieren/verifizierung.php\\n',\n",
       " 'http://alen.co/docs/cleaner\\n']"
      ]
     },
     "execution_count": 32,
     "metadata": {},
     "output_type": "execute_result"
    }
   ],
   "source": [
    "data.url[data.phishing==1].sample(10, random_state=1).tolist()"
   ]
  },
  {
   "cell_type": "markdown",
   "metadata": {},
   "source": [
    "Contain any of the following:\n",
    "* https\n",
    "* login\n",
    "* .php\n",
    "* .html\n",
    "* @\n",
    "* sign\n",
    "* ?"
   ]
  },
  {
   "cell_type": "code",
   "execution_count": 6,
   "metadata": {
    "collapsed": true
   },
   "outputs": [],
   "source": [
    "keywords = ['https', 'login', '.php', '.html', '@', 'sign']\n",
    "for keyword in keywords:\n",
    "    data['keyword_' + keyword] = data.url.str.contains(keyword).astype(int)"
   ]
  },
  {
   "cell_type": "markdown",
   "metadata": {},
   "source": [
    "* Length of the url\n",
    "* Length of domain\n",
    "* is IP?\n",
    "* Number of .com"
   ]
  },
  {
   "cell_type": "code",
   "execution_count": 7,
   "metadata": {
    "collapsed": true
   },
   "outputs": [],
   "source": [
    "data['length'] = data.url.str.len() - 2\n",
    "domain = data.url.str.split('/', expand=True).iloc[:, 2]\n",
    "data['length_domain'] = domain.str.len()"
   ]
  },
  {
   "cell_type": "code",
   "execution_count": 8,
   "metadata": {
    "collapsed": false
   },
   "outputs": [
    {
     "data": {
      "text/plain": [
       "0                                    www.subalipack.com\n",
       "1             fasc.maximecapellot-gypsyjazz-ensemble.nl\n",
       "2                                    theotheragency.com\n",
       "3                                    aaalandscaping.com\n",
       "4     paypal.com.confirm-key-21107316126168.securepp...\n",
       "5                              lcthomasdeiriarte.edu.co\n",
       "6                                       livetoshare.org\n",
       "7                                            www.i-m.co\n",
       "8                                     manuelfernando.co\n",
       "9                                www.bladesmithnews.com\n",
       "10                                      www.rasbaek.com\n",
       "11                                      199.231.190.160\n",
       "Name: 2, dtype: object"
      ]
     },
     "execution_count": 8,
     "metadata": {},
     "output_type": "execute_result"
    }
   ],
   "source": [
    "domain.head(12)"
   ]
  },
  {
   "cell_type": "code",
   "execution_count": 9,
   "metadata": {
    "collapsed": true
   },
   "outputs": [],
   "source": [
    "data['isIP'] = (domain.str.replace('.', '') * 1).str.isnumeric().astype(int)"
   ]
  },
  {
   "cell_type": "code",
   "execution_count": 10,
   "metadata": {
    "collapsed": true
   },
   "outputs": [],
   "source": [
    "data['count_com'] = data.url.str.count('com')"
   ]
  },
  {
   "cell_type": "code",
   "execution_count": 31,
   "metadata": {
    "collapsed": false
   },
   "outputs": [
    {
     "data": {
      "text/html": [
       "<div>\n",
       "<table border=\"1\" class=\"dataframe\">\n",
       "  <thead>\n",
       "    <tr style=\"text-align: right;\">\n",
       "      <th></th>\n",
       "      <th>url</th>\n",
       "      <th>phishing</th>\n",
       "      <th>keyword_https</th>\n",
       "      <th>keyword_login</th>\n",
       "      <th>keyword_.php</th>\n",
       "      <th>keyword_.html</th>\n",
       "      <th>keyword_@</th>\n",
       "      <th>keyword_sign</th>\n",
       "      <th>lenght</th>\n",
       "      <th>lenght_domain</th>\n",
       "      <th>isIP</th>\n",
       "      <th>count_com</th>\n",
       "    </tr>\n",
       "  </thead>\n",
       "  <tbody>\n",
       "    <tr>\n",
       "      <th>28607</th>\n",
       "      <td>http://pennstatehershey.org/web/ibd/home/event...</td>\n",
       "      <td>0</td>\n",
       "      <td>0</td>\n",
       "      <td>0</td>\n",
       "      <td>0</td>\n",
       "      <td>0</td>\n",
       "      <td>0</td>\n",
       "      <td>0</td>\n",
       "      <td>80</td>\n",
       "      <td>20</td>\n",
       "      <td>0</td>\n",
       "      <td>0</td>\n",
       "    </tr>\n",
       "    <tr>\n",
       "      <th>3689</th>\n",
       "      <td>http://guiadesanborja.com/multiprinter/muestra...</td>\n",
       "      <td>1</td>\n",
       "      <td>0</td>\n",
       "      <td>1</td>\n",
       "      <td>1</td>\n",
       "      <td>0</td>\n",
       "      <td>0</td>\n",
       "      <td>0</td>\n",
       "      <td>81</td>\n",
       "      <td>18</td>\n",
       "      <td>0</td>\n",
       "      <td>1</td>\n",
       "    </tr>\n",
       "    <tr>\n",
       "      <th>6405</th>\n",
       "      <td>http://paranaibaweb.com/faleconosco/accounting...</td>\n",
       "      <td>1</td>\n",
       "      <td>0</td>\n",
       "      <td>0</td>\n",
       "      <td>0</td>\n",
       "      <td>1</td>\n",
       "      <td>0</td>\n",
       "      <td>0</td>\n",
       "      <td>65</td>\n",
       "      <td>16</td>\n",
       "      <td>0</td>\n",
       "      <td>1</td>\n",
       "    </tr>\n",
       "    <tr>\n",
       "      <th>35355</th>\n",
       "      <td>http://courts.delaware.gov/Jury%20Services/Hel...</td>\n",
       "      <td>0</td>\n",
       "      <td>0</td>\n",
       "      <td>0</td>\n",
       "      <td>0</td>\n",
       "      <td>0</td>\n",
       "      <td>0</td>\n",
       "      <td>0</td>\n",
       "      <td>94</td>\n",
       "      <td>19</td>\n",
       "      <td>0</td>\n",
       "      <td>0</td>\n",
       "    </tr>\n",
       "    <tr>\n",
       "      <th>16520</th>\n",
       "      <td>http://erpa.co/tmp/getproductrequest.htm\\n</td>\n",
       "      <td>1</td>\n",
       "      <td>0</td>\n",
       "      <td>0</td>\n",
       "      <td>0</td>\n",
       "      <td>0</td>\n",
       "      <td>0</td>\n",
       "      <td>0</td>\n",
       "      <td>39</td>\n",
       "      <td>7</td>\n",
       "      <td>0</td>\n",
       "      <td>0</td>\n",
       "    </tr>\n",
       "    <tr>\n",
       "      <th>16196</th>\n",
       "      <td>http://pulapulapipoca.com/components/com_media...</td>\n",
       "      <td>1</td>\n",
       "      <td>0</td>\n",
       "      <td>1</td>\n",
       "      <td>1</td>\n",
       "      <td>0</td>\n",
       "      <td>0</td>\n",
       "      <td>0</td>\n",
       "      <td>239</td>\n",
       "      <td>18</td>\n",
       "      <td>0</td>\n",
       "      <td>4</td>\n",
       "    </tr>\n",
       "    <tr>\n",
       "      <th>3810</th>\n",
       "      <td>http://www.dag.or.kr/zboard/icon/visa/img/Atua...</td>\n",
       "      <td>1</td>\n",
       "      <td>0</td>\n",
       "      <td>0</td>\n",
       "      <td>0</td>\n",
       "      <td>0</td>\n",
       "      <td>0</td>\n",
       "      <td>0</td>\n",
       "      <td>62</td>\n",
       "      <td>13</td>\n",
       "      <td>0</td>\n",
       "      <td>0</td>\n",
       "    </tr>\n",
       "    <tr>\n",
       "      <th>3005</th>\n",
       "      <td>http://www.amazingdressup.com/wp-content/theme...</td>\n",
       "      <td>1</td>\n",
       "      <td>0</td>\n",
       "      <td>0</td>\n",
       "      <td>0</td>\n",
       "      <td>1</td>\n",
       "      <td>0</td>\n",
       "      <td>0</td>\n",
       "      <td>94</td>\n",
       "      <td>22</td>\n",
       "      <td>0</td>\n",
       "      <td>1</td>\n",
       "    </tr>\n",
       "    <tr>\n",
       "      <th>9003</th>\n",
       "      <td>http://web.indosuksesfutures.com/content_file/...</td>\n",
       "      <td>1</td>\n",
       "      <td>0</td>\n",
       "      <td>0</td>\n",
       "      <td>0</td>\n",
       "      <td>0</td>\n",
       "      <td>0</td>\n",
       "      <td>0</td>\n",
       "      <td>80</td>\n",
       "      <td>25</td>\n",
       "      <td>0</td>\n",
       "      <td>1</td>\n",
       "    </tr>\n",
       "    <tr>\n",
       "      <th>34704</th>\n",
       "      <td>http://www.nutritionaltree.com/subcat.aspx?cid...</td>\n",
       "      <td>0</td>\n",
       "      <td>0</td>\n",
       "      <td>0</td>\n",
       "      <td>0</td>\n",
       "      <td>0</td>\n",
       "      <td>0</td>\n",
       "      <td>0</td>\n",
       "      <td>69</td>\n",
       "      <td>23</td>\n",
       "      <td>0</td>\n",
       "      <td>1</td>\n",
       "    </tr>\n",
       "  </tbody>\n",
       "</table>\n",
       "</div>"
      ],
      "text/plain": [
       "                                                     url  phishing  \\\n",
       "28607  http://pennstatehershey.org/web/ibd/home/event...         0   \n",
       "3689   http://guiadesanborja.com/multiprinter/muestra...         1   \n",
       "6405   http://paranaibaweb.com/faleconosco/accounting...         1   \n",
       "35355  http://courts.delaware.gov/Jury%20Services/Hel...         0   \n",
       "16520         http://erpa.co/tmp/getproductrequest.htm\\n         1   \n",
       "16196  http://pulapulapipoca.com/components/com_media...         1   \n",
       "3810   http://www.dag.or.kr/zboard/icon/visa/img/Atua...         1   \n",
       "3005   http://www.amazingdressup.com/wp-content/theme...         1   \n",
       "9003   http://web.indosuksesfutures.com/content_file/...         1   \n",
       "34704  http://www.nutritionaltree.com/subcat.aspx?cid...         0   \n",
       "\n",
       "       keyword_https  keyword_login  keyword_.php  keyword_.html  keyword_@  \\\n",
       "28607              0              0             0              0          0   \n",
       "3689               0              1             1              0          0   \n",
       "6405               0              0             0              1          0   \n",
       "35355              0              0             0              0          0   \n",
       "16520              0              0             0              0          0   \n",
       "16196              0              1             1              0          0   \n",
       "3810               0              0             0              0          0   \n",
       "3005               0              0             0              1          0   \n",
       "9003               0              0             0              0          0   \n",
       "34704              0              0             0              0          0   \n",
       "\n",
       "       keyword_sign  lenght  lenght_domain  isIP  count_com  \n",
       "28607             0      80             20     0          0  \n",
       "3689              0      81             18     0          1  \n",
       "6405              0      65             16     0          1  \n",
       "35355             0      94             19     0          0  \n",
       "16520             0      39              7     0          0  \n",
       "16196             0     239             18     0          4  \n",
       "3810              0      62             13     0          0  \n",
       "3005              0      94             22     0          1  \n",
       "9003              0      80             25     0          1  \n",
       "34704             0      69             23     0          1  "
      ]
     },
     "execution_count": 31,
     "metadata": {},
     "output_type": "execute_result"
    }
   ],
   "source": [
    "data.sample(10, random_state=4)"
   ]
  },
  {
   "cell_type": "markdown",
   "metadata": {},
   "source": [
    "#### Create a model"
   ]
  },
  {
   "cell_type": "code",
   "execution_count": 12,
   "metadata": {
    "collapsed": true
   },
   "outputs": [],
   "source": [
    "X = data.drop(['url', 'phishing'], axis=1)\n",
    "y = data.phishing"
   ]
  },
  {
   "cell_type": "code",
   "execution_count": 13,
   "metadata": {
    "collapsed": true
   },
   "outputs": [],
   "source": [
    "from sklearn.ensemble import RandomForestClassifier\n",
    "from sklearn.model_selection import cross_val_score"
   ]
  },
  {
   "cell_type": "code",
   "execution_count": 14,
   "metadata": {
    "collapsed": true
   },
   "outputs": [],
   "source": [
    "clf = RandomForestClassifier(n_jobs=-1, n_estimators=100)"
   ]
  },
  {
   "cell_type": "code",
   "execution_count": 15,
   "metadata": {
    "collapsed": false
   },
   "outputs": [
    {
     "data": {
      "text/plain": [
       "array([ 0.8065 ,  0.81025,  0.804  ,  0.789  ,  0.80325,  0.8145 ,\n",
       "        0.8015 ,  0.80775,  0.80225,  0.79175])"
      ]
     },
     "execution_count": 15,
     "metadata": {},
     "output_type": "execute_result"
    }
   ],
   "source": [
    "cross_val_score(clf, X, y, cv=10)"
   ]
  },
  {
   "cell_type": "code",
   "execution_count": 16,
   "metadata": {
    "collapsed": false
   },
   "outputs": [
    {
     "data": {
      "text/plain": [
       "RandomForestClassifier(bootstrap=True, class_weight=None, criterion='gini',\n",
       "            max_depth=None, max_features='auto', max_leaf_nodes=None,\n",
       "            min_impurity_split=1e-07, min_samples_leaf=1,\n",
       "            min_samples_split=2, min_weight_fraction_leaf=0.0,\n",
       "            n_estimators=100, n_jobs=-1, oob_score=False,\n",
       "            random_state=None, verbose=0, warm_start=False)"
      ]
     },
     "execution_count": 16,
     "metadata": {},
     "output_type": "execute_result"
    }
   ],
   "source": [
    "clf.fit(X, y)"
   ]
  },
  {
   "cell_type": "markdown",
   "metadata": {},
   "source": [
    "#### Feature Importances"
   ]
  },
  {
   "cell_type": "code",
   "execution_count": 18,
   "metadata": {
    "collapsed": true
   },
   "outputs": [],
   "source": [
    "%matplotlib inline\n",
    "import numpy as np\n",
    "import matplotlib.pyplot as plt\n",
    "plt.style.use('fivethirtyeight')"
   ]
  },
  {
   "cell_type": "code",
   "execution_count": 19,
   "metadata": {
    "collapsed": true
   },
   "outputs": [],
   "source": [
    "importances = clf.feature_importances_\n",
    "std = np.std([tree.feature_importances_ for tree in clf.estimators_],axis=0)\n",
    "indices = np.argsort(importances)[::-1]"
   ]
  },
  {
   "cell_type": "code",
   "execution_count": 30,
   "metadata": {
    "collapsed": false
   },
   "outputs": [
    {
     "data": {
      "image/png": "[encoded data removed]",
      "text/plain": [
       "<matplotlib.figure.Figure at 0x7fcc5c40d748>"
      ]
     },
     "metadata": {},
     "output_type": "display_data"
    }
   ],
   "source": [
    "plt.figure()\n",
    "plt.title(\"Feature importances\")\n",
    "plt.bar(range(X.shape[1]), importances[indices], yerr=std[indices], align=\"center\")\n",
    "plt.xticks(range(X.shape[1]), X.columns.values[indices], rotation='90')\n",
    "plt.xlim([-1, X.shape[1]])\n",
    "plt.show()"
   ]
  },
  {
   "cell_type": "markdown",
   "metadata": {},
   "source": [
    "Feature importance is an interesting tool to evaluate in a general way which features are more important during training. But it does not gives any insight regarding the feature importance of a given individual prediction."
   ]
  },
  {
   "cell_type": "markdown",
   "metadata": {},
   "source": [
    "## Explaining individual predictions using LIME"
   ]
  },
  {
   "cell_type": "markdown",
   "metadata": {},
   "source": [
    "First install lime using\n",
    "\n",
    "```pip install lime```"
   ]
  },
  {
   "cell_type": "code",
   "execution_count": 33,
   "metadata": {
    "collapsed": true
   },
   "outputs": [],
   "source": [
    "import lime\n",
    "import lime.lime_tabular"
   ]
  },
  {
   "cell_type": "code",
   "execution_count": 41,
   "metadata": {
    "collapsed": false
   },
   "outputs": [
    {
     "name": "stderr",
     "output_type": "stream",
     "text": [
      "/home/al/anaconda3/lib/python3.5/site-packages/sklearn/utils/validation.py:429: DataConversionWarning: Data with input dtype int64 was converted to float64 by StandardScaler.\n",
      "  warnings.warn(msg, _DataConversionWarning)\n"
     ]
    }
   ],
   "source": [
    "explainer = lime.lime_tabular.LimeTabularExplainer(X.values ,feature_names = X.columns.values,class_names=['ham','phish'],\n",
    "                                                   categorical_features=[0, 1, 2, 3, 4, 5, 8], kernel_width=3)"
   ]
  },
  {
   "cell_type": "markdown",
   "metadata": {},
   "source": [
    "#### Function to explain a single instance using LIME"
   ]
  },
  {
   "cell_type": "code",
   "execution_count": 112,
   "metadata": {
    "collapsed": false
   },
   "outputs": [],
   "source": [
    "def explain_instance(X_test):\n",
    "    if X_test.phishing.values == 1:\n",
    "        print(\"Phishing URL\")\n",
    "    else:\n",
    "        print(\"Legitimate URL\")\n",
    "    print(X_test.url.values[0])\n",
    "    y_pred_proba = clf.predict_proba(X_test.drop(['url', 'phishing'], axis=1))\n",
    "    print(\"Predicted Probabilites: \", y_pred_proba[0])\n",
    "\n",
    "    # Explain prediction\n",
    "    predict_fn = lambda x: clf.predict_proba(x).astype(float)\n",
    "    exp = explainer.explain_instance(X_test.drop(['url', 'phishing'], axis=1).values[0], predict_fn, num_features=5)\n",
    "\n",
    "    # Organize explinations\n",
    "    temp = pd.DataFrame(exp.as_list())\n",
    "    vals = temp.iloc[:, 1].tolist()\n",
    "    features = temp.iloc[:, 0].tolist()\n",
    "    loc = np.arange(temp.shape[0])[::-1]\n",
    "\n",
    "    # Plot\n",
    "    print()\n",
    "    print(\"Feature importances:\")\n",
    "    fig, ax = plt.subplots(figsize=(6,4))\n",
    "    # Plot positive impact features\n",
    "    plt.barh(loc, [max(val, 0) for val in vals], height=0.5, color='r')\n",
    "    # Plot negative impact features\n",
    "    plt.barh(loc, [min(val, 0) for val in vals], height=0.5)\n",
    "\n",
    "    # Plot to fix range\n",
    "    plt.barh([0, 0], [-np.abs(vals).max()*1.2, np.abs(vals).max()*1.2], alpha=0)\n",
    "\n",
    "\n",
    "    # Add labels\n",
    "    for label, x, y in zip(features, np.zeros(loc.shape[0]), loc):\n",
    "        if vals[features.index(label)] > 0:\n",
    "            plt.annotate(label, xy = (x, y), xytext = (5, 27),\n",
    "                         textcoords = 'offset points', ha = 'left', va = 'top')\n",
    "        else:\n",
    "            plt.annotate(label, xy = (x, y), xytext = (-5, 27),\n",
    "                         textcoords = 'offset points', ha = 'right', va = 'top')\n",
    "    plt.yticks([])      \n",
    "    plt.xticks([0], [''])\n",
    "    plt.annotate('HAM', xy = (np.min(vals)*0.5, max(loc)+1.05), xytext = (0, 0),\n",
    "                 textcoords = 'offset points', ha = 'right', va = 'top')\n",
    "    plt.title('      HAM                   Phish                ', y=1.13)\n",
    "    plt.show()"
   ]
  },
  {
   "cell_type": "markdown",
   "metadata": {},
   "source": [
    "Test with a random phishing URL"
   ]
  },
  {
   "cell_type": "code",
   "execution_count": 114,
   "metadata": {
    "collapsed": false
   },
   "outputs": [
    {
     "name": "stdout",
     "output_type": "stream",
     "text": [
      "Phishing URL\n",
      "http://login.paypal.com.convexcentral.com/Update/ab770f624342b07b71e56c1bae5d9bcb/\n",
      "\n",
      "Predicted Probabilites:  [ 0.  1.]\n",
      "\n",
      "Feature importances:\n"
     ]
    },
    {
     "data": {
      "image/png": "[encoded data removed]",
      "text/plain": [
       "<matplotlib.figure.Figure at 0x7fcc6cf43240>"
      ]
     },
     "metadata": {},
     "output_type": "display_data"
    }
   ],
   "source": [
    "explain_instance(data.query('phishing == 1').sample(1, random_state=7))"
   ]
  },
  {
   "cell_type": "markdown",
   "metadata": {},
   "source": [
    "Test with a random legitimate URL"
   ]
  },
  {
   "cell_type": "code",
   "execution_count": 99,
   "metadata": {
    "collapsed": false
   },
   "outputs": [
    {
     "name": "stdout",
     "output_type": "stream",
     "text": [
      "Legitimate URL\n",
      "http://www.redeyechicago.com/entertainment/tv/redeye-banshee-ivana-milicevic-interview-20140120-story.html\n",
      "\n",
      "Predicted Probabilites:  [ 0.9655  0.0345]\n",
      "\n",
      "Feature importances:\n"
     ]
    },
    {
     "data": {
      "image/png": "[encoded data removed]",
      "text/plain": [
       "<matplotlib.figure.Figure at 0x7fcc5c575f60>"
      ]
     },
     "metadata": {},
     "output_type": "display_data"
    }
   ],
   "source": [
    "explain_instance(data.query('phishing == 0').sample(1, random_state=1))"
   ]
  },
  {
   "cell_type": "markdown",
   "metadata": {},
   "source": [
    "# Conclusion\n",
    "\n",
    "With LIME we can actually understand how the classifier is making predictions without having to see the millions of parameters that the model has. In the first example, we’re looking at phishing URL’s from Phishtank, and see why the classifier is assigning both a very high probability of phish. On the other hand, we look at a ham URL, we see that the URL does not contain suspicious words, the length of the subdomain is short and it is not an IP. These indicators are the ones that the classifer uses in order to give this URL a low phishing probability.\n",
    "\n",
    "\n",
    "This method presents a very compelling paradigm for producing example-based explanations of complex classifiers which can truly be useful in building trust in specific predictions and in selecting and tuning models without deep ML expertise. I have worked on several projects in the past which eschewed advanced ML algorithms due to the need for explainability. The type of technique explored here point towards a path where we can utilize the power of complex predictive models while still providing useful explanations."
   ]
  }
 ],
 "metadata": {
  "anaconda-cloud": {},
  "kernelspec": {
   "display_name": "Python 3",
   "language": "python",
   "name": "python3"
  },
  "language_info": {
   "codemirror_mode": {
    "name": "ipython",
    "version": 3
   },
   "file_extension": ".py",
   "mimetype": "text/x-python",
   "name": "python",
   "nbconvert_exporter": "python",
   "pygments_lexer": "ipython3",
   "version": "3.5.2"
  }
 },
 "nbformat": 4,
 "nbformat_minor": 2
}
